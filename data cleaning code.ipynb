{
  "cells": [
    {
      "cell_type": "code",
      "source": [
        "# Step  1: Import pandas\n",
        "import pandas as pd\n",
        "\n",
        "# Step  2: Load the CSV files\n",
        "city_df = pd.read_csv('/content/City.csv')\n",
        "places_df = pd.read_csv('/content/Places.csv')\n",
        "\n",
        "# Step  3: Remove rows with null values in the 'Best_time_to_visit' column\n",
        "city_df = city_df.dropna(subset=['Best_time_to_visit'])\n",
        "\n",
        "# Step  4: Delete places with the same name as the city\n",
        "cities_to_remove = city_df['City'].values\n",
        "places_df = places_df[places_df['City'].isin(cities_to_remove)]\n",
        "\n",
        "# Step  5: Save the modified DataFrames back to CSV files\n",
        "city_df.to_csv('/content/City.csv', index=False)\n",
        "places_df.to_csv('/content/Places.csv', index=False)"
      ],
      "metadata": {
        "id": "NktigFWThqHn"
      },
      "execution_count": 8,
      "outputs": []
    },
    {
      "cell_type": "code",
      "source": [
        "import pandas as pd\n",
        "\n",
        "# Load the 'places.csv' DataFrame\n",
        "places_df = pd.read_csv('/content/Places.csv')\n",
        "\n",
        "# Remove rows with null values in the 'Ratings' column\n",
        "places_df.dropna(subset=['Ratings'], inplace=True)\n",
        "\n",
        "# Save the modified DataFrame back to the 'places.csv' file\n",
        "places_df.to_csv('/content/Places.csv', index=False)\n"
      ],
      "metadata": {
        "id": "KpjPvHmMnuKC"
      },
      "execution_count": 9,
      "outputs": []
    },
    {
      "cell_type": "code",
      "source": [
        "import pandas as pd\n",
        "\n",
        "# Load the 'city.csv' DataFrame\n",
        "city_df = pd.read_csv('/content/City.csv')\n",
        "\n",
        "# Split the 'Best_time_to_visit' column into two new columns\n",
        "city_df[['StartMonthToVisit', 'EndMonthToVisit']] = city_df['Best_time_to_visit'].str.split('-', expand=True)\n",
        "\n",
        "# Drop the original 'Best_time_to_visit' column as it's no longer needed\n",
        "city_df.drop('Best_time_to_visit', axis=1, inplace=True)\n",
        "\n",
        "# Save the modified DataFrame back to the 'city.csv' file\n",
        "city_df.to_csv('/content/City.csv', index=False)\n"
      ],
      "metadata": {
        "id": "ZByIBbU2oO_Z"
      },
      "execution_count": 10,
      "outputs": []
    },
    {
      "cell_type": "code",
      "source": [
        "import pandas as pd\n",
        "\n",
        "# Load the CSV files into pandas DataFrames\n",
        "city_df = pd.read_csv('/content/City.csv')\n",
        "places_df = pd.read_csv('/content/Places.csv')\n",
        "\n",
        "# Create a mapping dictionary from CityName to CityID\n",
        "city_to_id_dict = city_df.set_index('CityName')['CityID'].to_dict()\n",
        "\n",
        "# Map CityID in places DataFrame\n",
        "places_df['CityID'] = places_df['CityName'].map(city_to_id_dict)\n",
        "\n",
        "# Save the modified DataFrame back to the 'Places.csv' file\n",
        "places_df.to_csv('/content/Places.csv', index=False)"
      ],
      "metadata": {
        "id": "dRD3jfWZvZyy"
      },
      "execution_count": 16,
      "outputs": []
    }
  ],
  "metadata": {
    "colab": {
      "name": "Welcome To Colaboratory",
      "provenance": []
    },
    "kernelspec": {
      "display_name": "Python 3",
      "name": "python3"
    }
  },
  "nbformat": 4,
  "nbformat_minor": 0
}